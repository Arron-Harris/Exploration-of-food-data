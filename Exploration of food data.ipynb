{
 "cells": [
  {
   "cell_type": "markdown",
   "id": "5b687ce4",
   "metadata": {},
   "source": [
    "# Exploring data from a food survey\n"
   ]
  },
  {
   "cell_type": "code",
   "execution_count": 3,
   "id": "95d4202b",
   "metadata": {},
   "outputs": [],
   "source": [
    "#Dataset information\n",
    "#Timestamp-Timestamp of the survey\n",
    "#Participant_ID-Participant identification number\n",
    "#Gender-Gender of the Participant\n",
    "#Nationality-Nationality of the Participant\n",
    "#Age-Age of the Participant\n",
    "#Food-Food Preference of the Participant\n",
    "#Juice-Juice Preference of the Participant\n",
    "#Dessert -Dessert Preference of the Participant\n"
   ]
  },
  {
   "cell_type": "code",
   "execution_count": 4,
   "id": "cd7ddcdd",
   "metadata": {},
   "outputs": [],
   "source": [
    "#Importing libraries\n",
    "import pandas as pd\n",
    "import numpy as np\n",
    "import matplotlib.pyplot as plt\n",
    "import seaborn as sns\n",
    "%matplotlib inline"
   ]
  },
  {
   "cell_type": "code",
   "execution_count": 7,
   "id": "8a34d390",
   "metadata": {},
   "outputs": [],
   "source": [
    "food = pd.read_csv('Food_Preference.csv')"
   ]
  },
  {
   "cell_type": "code",
   "execution_count": 8,
   "id": "96a2af24",
   "metadata": {},
   "outputs": [
    {
     "data": {
      "text/html": [
       "<div>\n",
       "<style scoped>\n",
       "    .dataframe tbody tr th:only-of-type {\n",
       "        vertical-align: middle;\n",
       "    }\n",
       "\n",
       "    .dataframe tbody tr th {\n",
       "        vertical-align: top;\n",
       "    }\n",
       "\n",
       "    .dataframe thead th {\n",
       "        text-align: right;\n",
       "    }\n",
       "</style>\n",
       "<table border=\"1\" class=\"dataframe\">\n",
       "  <thead>\n",
       "    <tr style=\"text-align: right;\">\n",
       "      <th></th>\n",
       "      <th>Timestamp</th>\n",
       "      <th>Participant_ID</th>\n",
       "      <th>Gender</th>\n",
       "      <th>Nationality</th>\n",
       "      <th>Age</th>\n",
       "      <th>Food</th>\n",
       "      <th>Juice</th>\n",
       "      <th>Dessert</th>\n",
       "    </tr>\n",
       "  </thead>\n",
       "  <tbody>\n",
       "    <tr>\n",
       "      <th>0</th>\n",
       "      <td>2019/05/07 2:59:13 PM GMT+8</td>\n",
       "      <td>FPS001</td>\n",
       "      <td>Male</td>\n",
       "      <td>Indian</td>\n",
       "      <td>24</td>\n",
       "      <td>Traditional food</td>\n",
       "      <td>Fresh Juice</td>\n",
       "      <td>Maybe</td>\n",
       "    </tr>\n",
       "    <tr>\n",
       "      <th>1</th>\n",
       "      <td>2019/05/07 2:59:45 PM GMT+8</td>\n",
       "      <td>FPS002</td>\n",
       "      <td>Female</td>\n",
       "      <td>Indian</td>\n",
       "      <td>22</td>\n",
       "      <td>Western Food</td>\n",
       "      <td>Carbonated drinks</td>\n",
       "      <td>Yes</td>\n",
       "    </tr>\n",
       "    <tr>\n",
       "      <th>2</th>\n",
       "      <td>2019/05/07 3:00:05 PM GMT+8</td>\n",
       "      <td>FPS003</td>\n",
       "      <td>Male</td>\n",
       "      <td>Indian</td>\n",
       "      <td>31</td>\n",
       "      <td>Western Food</td>\n",
       "      <td>Fresh Juice</td>\n",
       "      <td>Maybe</td>\n",
       "    </tr>\n",
       "    <tr>\n",
       "      <th>3</th>\n",
       "      <td>2019/05/07 3:00:11 PM GMT+8</td>\n",
       "      <td>FPS004</td>\n",
       "      <td>Female</td>\n",
       "      <td>Indian</td>\n",
       "      <td>25</td>\n",
       "      <td>Traditional food</td>\n",
       "      <td>Fresh Juice</td>\n",
       "      <td>Maybe</td>\n",
       "    </tr>\n",
       "    <tr>\n",
       "      <th>4</th>\n",
       "      <td>2019/05/07 3:02:50 PM GMT+8</td>\n",
       "      <td>FPS005</td>\n",
       "      <td>Male</td>\n",
       "      <td>Indian</td>\n",
       "      <td>27</td>\n",
       "      <td>Traditional food</td>\n",
       "      <td>Fresh Juice</td>\n",
       "      <td>Maybe</td>\n",
       "    </tr>\n",
       "  </tbody>\n",
       "</table>\n",
       "</div>"
      ],
      "text/plain": [
       "                     Timestamp Participant_ID  Gender Nationality  Age  \\\n",
       "0  2019/05/07 2:59:13 PM GMT+8         FPS001    Male      Indian   24   \n",
       "1  2019/05/07 2:59:45 PM GMT+8         FPS002  Female      Indian   22   \n",
       "2  2019/05/07 3:00:05 PM GMT+8         FPS003    Male      Indian   31   \n",
       "3  2019/05/07 3:00:11 PM GMT+8         FPS004  Female      Indian   25   \n",
       "4  2019/05/07 3:02:50 PM GMT+8         FPS005    Male      Indian   27   \n",
       "\n",
       "               Food              Juice Dessert  \n",
       "0  Traditional food        Fresh Juice   Maybe  \n",
       "1      Western Food  Carbonated drinks     Yes  \n",
       "2      Western Food        Fresh Juice   Maybe  \n",
       "3  Traditional food        Fresh Juice   Maybe  \n",
       "4  Traditional food        Fresh Juice   Maybe  "
      ]
     },
     "execution_count": 8,
     "metadata": {},
     "output_type": "execute_result"
    }
   ],
   "source": [
    "#Check the head of the dataframe\n",
    "food.head()"
   ]
  },
  {
   "cell_type": "code",
   "execution_count": 13,
   "id": "407838ce",
   "metadata": {},
   "outputs": [
    {
     "data": {
      "text/plain": [
       "array(['Indian', 'Pakistani ', 'Tanzanian', 'Indonesia', 'Muslim',\n",
       "       'Pakistan', 'Maldivian ', 'MY', 'Malaysian', 'Malaysian ',\n",
       "       'Indonesian ', 'Maldivian', 'MALAYSIAN', 'Malaysia ', 'Pakistani',\n",
       "       'Canadian', 'Nigerian ', 'Algerian ', 'Korean ', 'Seychellois',\n",
       "       'Indonesain', 'Indonesian', 'Malaysia', 'Japan', 'China',\n",
       "       'Mauritian', 'Yemen'], dtype=object)"
      ]
     },
     "execution_count": 13,
     "metadata": {},
     "output_type": "execute_result"
    }
   ],
   "source": [
    "#All the nationalities in the dataframe\n",
    "food['Nationality'].unique()"
   ]
  },
  {
   "cell_type": "code",
   "execution_count": 15,
   "id": "fdde733b",
   "metadata": {},
   "outputs": [],
   "source": [
    "male = food['Gender']=='Male'\n",
    "female = food['Gender']== 'Female'"
   ]
  },
  {
   "cell_type": "code",
   "execution_count": 16,
   "id": "38a53119",
   "metadata": {},
   "outputs": [
    {
     "data": {
      "text/plain": [
       "288"
      ]
     },
     "execution_count": 16,
     "metadata": {},
     "output_type": "execute_result"
    }
   ],
   "source": [
    "#Have 288 males in this food survey\n",
    "male.count()"
   ]
  },
  {
   "cell_type": "code",
   "execution_count": 17,
   "id": "52c6a922",
   "metadata": {},
   "outputs": [
    {
     "data": {
      "text/plain": [
       "288"
      ]
     },
     "execution_count": 17,
     "metadata": {},
     "output_type": "execute_result"
    }
   ],
   "source": [
    "#Have 288 females in this survey\n",
    "female.count()"
   ]
  },
  {
   "cell_type": "code",
   "execution_count": 18,
   "id": "244e10d5",
   "metadata": {},
   "outputs": [
    {
     "data": {
      "text/plain": [
       "<seaborn.axisgrid.FacetGrid at 0x1ebd6cd4988>"
      ]
     },
     "execution_count": 18,
     "metadata": {},
     "output_type": "execute_result"
    },
    {
     "data": {
      "image/png": "[encoded data removed]",
      "text/plain": [
       "<Figure size 360x360 with 1 Axes>"
      ]
     },
     "metadata": {
      "needs_background": "light"
     },
     "output_type": "display_data"
    }
   ],
   "source": [
    "#shows the ages that engaed most in the survey\n",
    "sns.displot(food['Age'])"
   ]
  },
  {
   "cell_type": "code",
   "execution_count": 24,
   "id": "69dca04c",
   "metadata": {},
   "outputs": [
    {
     "data": {
      "text/plain": [
       "<AxesSubplot:xlabel='Age', ylabel='Nationality'>"
      ]
     },
     "execution_count": 24,
     "metadata": {},
     "output_type": "execute_result"
    },
    {
     "data": {
      "image/png": "[encoded data removed]",
      "text/plain": [
       "<Figure size 432x288 with 1 Axes>"
      ]
     },
     "metadata": {
      "needs_background": "light"
     },
     "output_type": "display_data"
    }
   ],
   "source": [
    "# Shows popular age among each group\n",
    "sns.barplot(x = 'Age', y = 'Nationality', data=food)"
   ]
  },
  {
   "cell_type": "code",
   "execution_count": 25,
   "id": "24ca0ec9",
   "metadata": {},
   "outputs": [
    {
     "data": {
      "text/plain": [
       "<AxesSubplot:xlabel='Food', ylabel='count'>"
      ]
     },
     "execution_count": 25,
     "metadata": {},
     "output_type": "execute_result"
    },
    {
     "data": {
      "image/png": "[encoded data removed]",
      "text/plain": [
       "<Figure size 432x288 with 1 Axes>"
      ]
     },
     "metadata": {
      "needs_background": "light"
     },
     "output_type": "display_data"
    }
   ],
   "source": [
    "#Shows that traditional food is more popular\n",
    "sns.countplot(x ='Food', data=food)"
   ]
  },
  {
   "cell_type": "code",
   "execution_count": 27,
   "id": "35881247",
   "metadata": {},
   "outputs": [
    {
     "data": {
      "text/plain": [
       "<AxesSubplot:xlabel='Juice', ylabel='count'>"
      ]
     },
     "execution_count": 27,
     "metadata": {},
     "output_type": "execute_result"
    },
    {
     "data": {
      "image/png": "[encoded data removed]",
      "text/plain": [
       "<Figure size 432x288 with 1 Axes>"
      ]
     },
     "metadata": {
      "needs_background": "light"
     },
     "output_type": "display_data"
    }
   ],
   "source": [
    "#Fresh juice is preferred over carbonated drinks\n",
    "sns.countplot(x ='Juice', data=food)"
   ]
  },
  {
   "cell_type": "code",
   "execution_count": 30,
   "id": "311b5546",
   "metadata": {},
   "outputs": [
    {
     "data": {
      "text/plain": [
       "<AxesSubplot:xlabel='Dessert', ylabel='count'>"
      ]
     },
     "execution_count": 30,
     "metadata": {},
     "output_type": "execute_result"
    },
    {
     "data": {
      "image/png": "[encoded data removed]",
      "text/plain": [
       "<Figure size 432x288 with 1 Axes>"
      ]
     },
     "metadata": {
      "needs_background": "light"
     },
     "output_type": "display_data"
    }
   ],
   "source": [
    "#results of people when asked about dessert. \n",
    "sns.countplot(x ='Dessert', data=food)"
   ]
  },
  {
   "cell_type": "code",
   "execution_count": null,
   "id": "a039b474",
   "metadata": {},
   "outputs": [],
   "source": []
  }
 ],
 "metadata": {
  "kernelspec": {
   "display_name": "Python 3 (ipykernel)",
   "language": "python",
   "name": "python3"
  },
  "language_info": {
   "codemirror_mode": {
    "name": "ipython",
    "version": 3
   },
   "file_extension": ".py",
   "mimetype": "text/x-python",
   "name": "python",
   "nbconvert_exporter": "python",
   "pygments_lexer": "ipython3",
   "version": "3.7.6"
  }
 },
 "nbformat": 4,
 "nbformat_minor": 5
}
